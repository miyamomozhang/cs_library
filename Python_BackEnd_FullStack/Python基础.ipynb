{
 "cells": [
  {
   "cell_type": "markdown",
   "id": "f73aec03",
   "metadata": {},
   "source": [
    "# 基础"
   ]
  },
  {
   "cell_type": "markdown",
   "id": "82eca278",
   "metadata": {},
   "source": [
    "## 基本数据类型"
   ]
  },
  {
   "cell_type": "code",
   "execution_count": 35,
   "id": "269e6c62",
   "metadata": {},
   "outputs": [
    {
     "name": "stdout",
     "output_type": "stream",
     "text": [
      "<class 'str'>\n"
     ]
    }
   ],
   "source": [
    "# DataType Output: str\n",
    "x = \"Hello World\"\n",
    "print(type(x))\n",
    "    "
   ]
  },
  {
   "cell_type": "code",
   "execution_count": 36,
   "id": "3ee33dad",
   "metadata": {},
   "outputs": [
    {
     "data": {
      "text/plain": [
       "int"
      ]
     },
     "execution_count": 36,
     "metadata": {},
     "output_type": "execute_result"
    }
   ],
   "source": [
    "# DataType Output: int\n",
    "x = 50\n",
    "type(x)"
   ]
  },
  {
   "cell_type": "code",
   "execution_count": 37,
   "id": "37a17e5b",
   "metadata": {},
   "outputs": [
    {
     "data": {
      "text/plain": [
       "float"
      ]
     },
     "execution_count": 37,
     "metadata": {},
     "output_type": "execute_result"
    }
   ],
   "source": [
    "# DataType Output: float\n",
    "x = 60.5\n",
    "type(x)"
   ]
  },
  {
   "cell_type": "code",
   "execution_count": 38,
   "id": "aff3671e",
   "metadata": {},
   "outputs": [
    {
     "data": {
      "text/plain": [
       "complex"
      ]
     },
     "execution_count": 38,
     "metadata": {},
     "output_type": "execute_result"
    }
   ],
   "source": [
    "# DataType Output: complex\n",
    "x = 3j\n",
    "type(x)"
   ]
  },
  {
   "cell_type": "code",
   "execution_count": 39,
   "id": "7a399267",
   "metadata": {},
   "outputs": [
    {
     "data": {
      "text/plain": [
       "list"
      ]
     },
     "execution_count": 39,
     "metadata": {},
     "output_type": "execute_result"
    }
   ],
   "source": [
    "# DataType Output: list\n",
    "x = [\"geeks\", \"for\", \"geeks\"]\n",
    "type(x)"
   ]
  },
  {
   "cell_type": "code",
   "execution_count": 40,
   "id": "3c0f85f9",
   "metadata": {},
   "outputs": [
    {
     "data": {
      "text/plain": [
       "tuple"
      ]
     },
     "execution_count": 40,
     "metadata": {},
     "output_type": "execute_result"
    }
   ],
   "source": [
    "# DataType Output: tuple\n",
    "x = (\"geeks\", \"for\", \"geeks\")\n",
    "type(x)"
   ]
  },
  {
   "cell_type": "code",
   "execution_count": 41,
   "id": "ecfd2517",
   "metadata": {},
   "outputs": [
    {
     "name": "stdout",
     "output_type": "stream",
     "text": [
      "<class 'range'>\n"
     ]
    },
    {
     "data": {
      "text/plain": [
       "range(0, 10)"
      ]
     },
     "execution_count": 41,
     "metadata": {},
     "output_type": "execute_result"
    }
   ],
   "source": [
    "# DataType Output: range\n",
    "x = range(10)\n",
    "print(type(x))\n",
    "x"
   ]
  },
  {
   "cell_type": "code",
   "execution_count": 42,
   "id": "5c62a557",
   "metadata": {},
   "outputs": [
    {
     "data": {
      "text/plain": [
       "dict"
      ]
     },
     "execution_count": 42,
     "metadata": {},
     "output_type": "execute_result"
    }
   ],
   "source": [
    "# DataType Output: dict\n",
    "x = {\"name\": \"Suraj\", \"age\": 24}\n",
    "type(x)"
   ]
  },
  {
   "cell_type": "code",
   "execution_count": 43,
   "id": "a25091de",
   "metadata": {},
   "outputs": [
    {
     "data": {
      "text/plain": [
       "bool"
      ]
     },
     "execution_count": 43,
     "metadata": {},
     "output_type": "execute_result"
    }
   ],
   "source": [
    "# DataType Output: bool\n",
    "x = True\n",
    "type(x)"
   ]
  },
  {
   "cell_type": "code",
   "execution_count": 44,
   "id": "27134175",
   "metadata": {},
   "outputs": [
    {
     "data": {
      "text/plain": [
       "bytes"
      ]
     },
     "execution_count": 44,
     "metadata": {},
     "output_type": "execute_result"
    }
   ],
   "source": [
    "# DataType Output: bytes\n",
    "x = b\"Geeks\"\n",
    "type(x)"
   ]
  },
  {
   "cell_type": "code",
   "execution_count": 45,
   "id": "6d3961e4",
   "metadata": {},
   "outputs": [
    {
     "data": {
      "text/plain": [
       "set"
      ]
     },
     "execution_count": 45,
     "metadata": {},
     "output_type": "execute_result"
    }
   ],
   "source": [
    "# DataType Output: set\n",
    "x = {\"geeks\", \"for\", \"geeks\"}\n",
    "type(x)"
   ]
  },
  {
   "cell_type": "markdown",
   "id": "0517c2af",
   "metadata": {},
   "source": [
    "## 输入输出"
   ]
  },
  {
   "cell_type": "code",
   "execution_count": 53,
   "id": "271f7d11",
   "metadata": {},
   "outputs": [
    {
     "name": "stdout",
     "output_type": "stream",
     "text": [
      "09-12-2016\n",
      "Example@geeksforgeeks\n",
      "\n"
     ]
    }
   ],
   "source": [
    "# code for disabling the softspace feature\n",
    "print('09', '12', '2016', sep='-')\n",
    "  \n",
    "# another example\n",
    "print('Example', 'geeksforgeeks', sep='@')\n",
    "# Python program showing\n",
    "# a use of input()\n",
    "   \n",
    "val = input(\"Enter your value: \")\n",
    "print(val)"
   ]
  },
  {
   "cell_type": "markdown",
   "id": "53b891e9",
   "metadata": {},
   "source": [
    "## 字典"
   ]
  },
  {
   "cell_type": "markdown",
   "id": "04c0b7ca",
   "metadata": {},
   "source": [
    "Python3 字典 values() 方法返回一个视图对象。视图对象:元组<br>\n",
    "dict.keys()、dict.values() 和 dict.items() 返回的都是视图对象（ view objects），提供了字典实体的动态视图，这就意味着字典改变，视图也会跟着变化。\n",
    "视图对象不是列表，不支持索引，可以使用 list() 来转换为列表。<br>\n",
    "我们不能对视图对象进行任何的修改，因为字典的视图对象都是只读的。"
   ]
  },
  {
   "cell_type": "code",
   "execution_count": 46,
   "id": "b055cf63",
   "metadata": {},
   "outputs": [
    {
     "data": {
      "text/plain": [
       "dict_keys(['a', 'b'])"
      ]
     },
     "execution_count": 46,
     "metadata": {},
     "output_type": "execute_result"
    },
    {
     "data": {
      "text/plain": [
       "dict_values([[1, 3, 5], [2, 4, 6]])"
      ]
     },
     "execution_count": 46,
     "metadata": {},
     "output_type": "execute_result"
    },
    {
     "data": {
      "text/plain": [
       "dict_items([('a', [1, 3, 5]), ('b', [2, 4, 6])])"
      ]
     },
     "execution_count": 46,
     "metadata": {},
     "output_type": "execute_result"
    }
   ],
   "source": [
    "# 临时允许多行输出\n",
    "from IPython.core.interactiveshell import InteractiveShell\n",
    "InteractiveShell.ast_node_interactivity = \"all\"\n",
    "a = {'a':[1,3,5],'b':[2,4,6]}\n",
    "a.keys() \n",
    "a.values() \n",
    "a.items()"
   ]
  },
  {
   "cell_type": "code",
   "execution_count": 47,
   "id": "ac020573",
   "metadata": {},
   "outputs": [],
   "source": [
    "dic = {}\n"
   ]
  },
  {
   "cell_type": "markdown",
   "id": "69d962e1",
   "metadata": {},
   "source": [
    "## 不可变集合\n",
    "\n",
    "对应于元组（tuple）与列表（list）的关系，对于集合（set），Python提供了一种叫做不可变集合（frozen set）的数据结构。\n",
    "\n",
    "使用 frozenset 来进行创建：\n",
    "\n",
    "\n",
    "\n",
    "与集合不同的是，不可变集合一旦创建就不可以改变。\n",
    "\n",
    "不可变集合的一个主要应用是用来作为字典的键，例如用一个字典来记录两个城市之间的距离：\n",
    "\n",
    "\n",
    "由于集合不分顺序，所以不同顺序不会影响查阅结果："
   ]
  },
  {
   "cell_type": "code",
   "execution_count": 48,
   "id": "a4a7fb81",
   "metadata": {},
   "outputs": [
    {
     "data": {
      "text/plain": [
       "frozenset"
      ]
     },
     "execution_count": 48,
     "metadata": {},
     "output_type": "execute_result"
    }
   ],
   "source": [
    "# DataType Output: frozenset\n",
    "x = frozenset({\"geeks\", \"for\", \"geeks\"})\n",
    "type(x)"
   ]
  },
  {
   "cell_type": "code",
   "execution_count": 49,
   "id": "9ed21455",
   "metadata": {},
   "outputs": [
    {
     "data": {
      "text/plain": [
       "bytearray"
      ]
     },
     "execution_count": 49,
     "metadata": {},
     "output_type": "execute_result"
    }
   ],
   "source": [
    "# DataType Output: bytearray\n",
    "x = bytearray(4)\n",
    "type(x)"
   ]
  },
  {
   "cell_type": "code",
   "execution_count": 50,
   "id": "57c4d9c4",
   "metadata": {},
   "outputs": [
    {
     "data": {
      "text/plain": [
       "memoryview"
      ]
     },
     "execution_count": 50,
     "metadata": {},
     "output_type": "execute_result"
    }
   ],
   "source": [
    "# DataType Output: memoryview\n",
    "x = memoryview(bytes(6))\n",
    "type(x)"
   ]
  },
  {
   "cell_type": "code",
   "execution_count": 51,
   "id": "fd56d849",
   "metadata": {},
   "outputs": [
    {
     "data": {
      "text/plain": [
       "NoneType"
      ]
     },
     "execution_count": 51,
     "metadata": {},
     "output_type": "execute_result"
    }
   ],
   "source": [
    "# DataType Output: NoneType\n",
    "x = None\n",
    "type(x)"
   ]
  },
  {
   "cell_type": "markdown",
   "id": "6a22a93e",
   "metadata": {},
   "source": [
    "# 模块"
   ]
  },
  {
   "cell_type": "markdown",
   "id": "21a7925f",
   "metadata": {},
   "source": [
    "## collections模块\n",
    "\n",
    "常用类型有：\n",
    "- 计数器（Counter）: dict的子类，计算可hash的对象\n",
    "- 双向队列（deque）: 类似于list的容器，可以快速的在队列头部和尾部添加、删除元素\n",
    "- 默认字典（defaultdict）: dict的子类，可以调用提供默认值的函数\n",
    "- 有序字典（OrderedDict）: dict的子类，可以记住元素的添加顺序\n",
    "- 可命名元组（namedtuple）: 可以创建包含名称的tuple\n"
   ]
  },
  {
   "cell_type": "code",
   "execution_count": 52,
   "id": "be0eaf2a",
   "metadata": {},
   "outputs": [
    {
     "name": "stdout",
     "output_type": "stream",
     "text": [
      "defaultdict(<class 'list'>, {})\n",
      "<class 'str'> ['a', 'e', 't'] <class 'str'> aet\n",
      "defaultdict(<class 'list'>, {'aet': ['eat']})\n",
      "<class 'str'> ['a', 'e', 't'] <class 'str'> aet\n",
      "defaultdict(<class 'list'>, {'aet': ['eat', 'tea']})\n",
      "<class 'str'> ['a', 'n', 't'] <class 'str'> ant\n",
      "defaultdict(<class 'list'>, {'aet': ['eat', 'tea'], 'ant': ['tan']})\n",
      "<class 'str'> ['a', 'e', 't'] <class 'str'> aet\n",
      "defaultdict(<class 'list'>, {'aet': ['eat', 'tea', 'ate'], 'ant': ['tan']})\n",
      "<class 'str'> ['a', 'n', 't'] <class 'str'> ant\n",
      "defaultdict(<class 'list'>, {'aet': ['eat', 'tea', 'ate'], 'ant': ['tan', 'nat']})\n",
      "<class 'str'> ['a', 'b', 't'] <class 'str'> abt\n"
     ]
    }
   ],
   "source": [
    "import collections\n",
    "mp = collections.defaultdict(list)\n",
    "strs = [\"eat\",\"tea\",\"tan\",\"ate\",\"nat\",\"bat\"]\n",
    "\n",
    "for st in strs:\n",
    "    print(mp)\n",
    "#     break\n",
    "    print(type(st), end = \" \")\n",
    "    sorted_str = sorted(st)\n",
    "    print(sorted_str, end = \" \")\n",
    "    key = \"\".join(sorted_str)\n",
    "    print(type(key), end = \" \")\n",
    "    print(key)\n",
    "    mp[key].append(st)"
   ]
  },
  {
   "cell_type": "markdown",
   "id": "b487d6a6",
   "metadata": {},
   "source": [
    "## 操作符"
   ]
  },
  {
   "cell_type": "markdown",
   "id": "ae578d48",
   "metadata": {},
   "source": [
    "### 算数运算"
   ]
  },
  {
   "cell_type": "code",
   "execution_count": 28,
   "id": "72a93653",
   "metadata": {},
   "outputs": [
    {
     "name": "stdout",
     "output_type": "stream",
     "text": [
      "13\n",
      "5\n",
      "36\n",
      "1\n",
      "6561\n"
     ]
    }
   ],
   "source": [
    "# Examples of Arithmetic Operator\n",
    "a = 9\n",
    "b = 4\n",
    "\n",
    "# Addition of numbers\n",
    "add = a + b\n",
    "\n",
    "# Subtraction of numbers\n",
    "sub = a - b\n",
    "\n",
    "# Multiplication of number\n",
    "mul = a * b\n",
    "\n",
    "# Modulo of both number\n",
    "mod = a % b\n",
    "\n",
    "# Power\n",
    "p = a ** b\n",
    "\n",
    "# print results\n",
    "print(add)\n",
    "print(sub)\n",
    "print(mul)\n",
    "print(mod)\n",
    "print(p)\n"
   ]
  },
  {
   "cell_type": "markdown",
   "id": "1c333984",
   "metadata": {},
   "source": [
    "### 比较运算"
   ]
  },
  {
   "cell_type": "code",
   "execution_count": 29,
   "id": "9360a707",
   "metadata": {},
   "outputs": [
    {
     "name": "stdout",
     "output_type": "stream",
     "text": [
      "False\n",
      "True\n",
      "False\n",
      "True\n",
      "False\n",
      "True\n"
     ]
    }
   ],
   "source": [
    "# Examples of Relational Operators\n",
    "a = 13\n",
    "b = 33\n",
    "\n",
    "# a > b is False\n",
    "print(a > b)\n",
    "\n",
    "# a < b is True\n",
    "print(a < b)\n",
    "\n",
    "# a == b is False\n",
    "print(a == b)\n",
    "\n",
    "# a != b is True\n",
    "print(a != b)\n",
    "\n",
    "# a >= b is False\n",
    "print(a >= b)\n",
    "\n",
    "# a <= b is True\n",
    "print(a <= b)\n"
   ]
  },
  {
   "cell_type": "markdown",
   "id": "a8e5d61c",
   "metadata": {},
   "source": [
    "### 逻辑运算"
   ]
  },
  {
   "cell_type": "code",
   "execution_count": 30,
   "id": "d9175968",
   "metadata": {},
   "outputs": [
    {
     "name": "stdout",
     "output_type": "stream",
     "text": [
      "False\n",
      "True\n",
      "False\n"
     ]
    }
   ],
   "source": [
    "# Examples of Logical Operator\n",
    "a = True\n",
    "b = False\n",
    "\n",
    "# Print a and b is False\n",
    "print(a and b)\n",
    "\n",
    "# Print a or b is True\n",
    "print(a or b)\n",
    "\n",
    "# Print not a is False\n",
    "print(not a)\n"
   ]
  },
  {
   "cell_type": "markdown",
   "id": "f5e62b75",
   "metadata": {},
   "source": [
    "### 位运算Bitwise Operators"
   ]
  },
  {
   "cell_type": "code",
   "execution_count": 31,
   "id": "077f1aec",
   "metadata": {},
   "outputs": [
    {
     "name": "stdout",
     "output_type": "stream",
     "text": [
      "0\n",
      "14\n",
      "-11\n",
      "14\n",
      "2\n",
      "40\n"
     ]
    }
   ],
   "source": [
    "# Examples of Bitwise operators\n",
    "a = 10\n",
    "b = 4\n",
    "\n",
    "# Print bitwise AND operation\n",
    "print(a & b)\n",
    "\n",
    "# Print bitwise OR operation\n",
    "print(a | b)\n",
    "\n",
    "# Print bitwise NOT operation\n",
    "print(~a)\n",
    "\n",
    "# print bitwise XOR operation\n",
    "print(a ^ b)\n",
    "\n",
    "# print bitwise right shift operation\n",
    "print(a >> 2)\n",
    "\n",
    "# print bitwise left shift operation\n",
    "print(a << 2)\n"
   ]
  },
  {
   "cell_type": "markdown",
   "id": "3a9e8a93",
   "metadata": {},
   "source": [
    "# 注释comments"
   ]
  },
  {
   "cell_type": "code",
   "execution_count": 32,
   "id": "06dc15e1",
   "metadata": {},
   "outputs": [
    {
     "data": {
      "text/plain": [
       "' Python program to demonstrate\\n multiline comments'"
      ]
     },
     "execution_count": 32,
     "metadata": {},
     "output_type": "execute_result"
    },
    {
     "name": "stdout",
     "output_type": "stream",
     "text": [
      "geeksforgeeks\n"
     ]
    }
   ],
   "source": [
    "# 单行注释（#）、多行注释 \"\"\"多行注释（三个双引号）\"\"\"\n",
    "# Single Line comment\n",
    "  \n",
    "# Python program to demonstrate\n",
    "# multiline comments\n",
    "  \n",
    "\"\"\" Python program to demonstrate\n",
    " multiline comments\"\"\"\n",
    "  \n",
    "name = \"geeksforgeeks\"\n",
    "print(name)"
   ]
  },
  {
   "cell_type": "markdown",
   "id": "58b21f09",
   "metadata": {},
   "source": [
    "# 字符串"
   ]
  },
  {
   "cell_type": "markdown",
   "id": "debc882d",
   "metadata": {},
   "source": [
    "## 切片slicing"
   ]
  },
  {
   "cell_type": "code",
   "execution_count": 33,
   "id": "6d544c03",
   "metadata": {},
   "outputs": [
    {
     "name": "stdout",
     "output_type": "stream",
     "text": [
      "Initial String: \n",
      "GeeksForGeeks\n",
      "\n",
      "Slicing characters from 3-12: \n",
      "k\n",
      "\n",
      "Slicing characters between 3rd and 2nd last character: \n",
      "ksForGee\n"
     ]
    }
   ],
   "source": [
    "# Creating a String\n",
    "String1 = \"GeeksForGeeks\"\n",
    "print(\"Initial String: \")\n",
    "print(String1)\n",
    "\n",
    "# Printing 3rd character\n",
    "print(\"\\nSlicing characters from 3-12: \")\n",
    "print(String1[3])\n",
    "\n",
    "# Printing characters between\n",
    "# 3rd and 2nd last character\n",
    "print(\"\\nSlicing characters between \" +\n",
    "\t\"3rd and 2nd last character: \")\n",
    "print(String1[3:-2])\n"
   ]
  },
  {
   "cell_type": "code",
   "execution_count": 34,
   "id": "f0126252",
   "metadata": {},
   "outputs": [
    {
     "data": {
      "text/plain": [
       "defaultdict(list, {})"
      ]
     },
     "execution_count": 34,
     "metadata": {},
     "output_type": "execute_result"
    }
   ],
   "source": [
    "import collections\n",
    "mp = collections.defaultdict(list)\n",
    "mp"
   ]
  },
  {
   "cell_type": "markdown",
   "id": "e4f491a6",
   "metadata": {},
   "source": [
    "# 算法"
   ]
  },
  {
   "cell_type": "markdown",
   "id": "9fa60b37",
   "metadata": {},
   "source": [
    "## sorted(obj)出新和l.sort()原地"
   ]
  },
  {
   "cell_type": "markdown",
   "id": "87401c09",
   "metadata": {},
   "source": [
    "Python lists have a built-in list.sort() method that modifies the list in-place. There is also a sorted() built-in function that builds a new sorted list from an iterable."
   ]
  },
  {
   "cell_type": "code",
   "execution_count": null,
   "id": "83e187c2",
   "metadata": {},
   "outputs": [],
   "source": []
  }
 ],
 "metadata": {
  "kernelspec": {
   "display_name": "jupyter_datascience1",
   "language": "python",
   "name": "jupyter_datascience1"
  },
  "language_info": {
   "codemirror_mode": {
    "name": "ipython",
    "version": 3
   },
   "file_extension": ".py",
   "mimetype": "text/x-python",
   "name": "python",
   "nbconvert_exporter": "python",
   "pygments_lexer": "ipython3",
   "version": "3.11.5"
  },
  "toc": {
   "base_numbering": 1,
   "nav_menu": {},
   "number_sections": true,
   "sideBar": true,
   "skip_h1_title": false,
   "title_cell": "Table of Contents",
   "title_sidebar": "Contents",
   "toc_cell": false,
   "toc_position": {
    "height": "calc(100% - 180px)",
    "left": "10px",
    "top": "150px",
    "width": "288px"
   },
   "toc_section_display": true,
   "toc_window_display": true
  }
 },
 "nbformat": 4,
 "nbformat_minor": 5
}
